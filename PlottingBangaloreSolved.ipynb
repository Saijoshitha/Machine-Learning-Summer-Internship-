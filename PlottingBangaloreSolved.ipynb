{
 "cells": [
  {
   "cell_type": "markdown",
   "metadata": {},
   "source": [
    "Before working on this assignment please read these instructions fully. In the submission area, you will notice that you can click the link to **Preview the Grading** for each step of the assignment. This is the criteria that will be used for peer grading. Please familiarize yourself with the criteria before beginning the assignment.\n",
    "\n",
    "An NOAA dataset has been stored in the file `BangaloreTempDataCleaninReqd.csv`. The data for this assignment comes from a subset of The National Centers for Environmental Information (NCEI) [Daily Global Historical Climatology Network](https://www1.ncdc.noaa.gov/pub/data/ghcn/daily/readme.txt) (GHCN-Daily). The GHCN-Daily is comprised of daily climate records from thousands of land surface stations across the globe.\n",
    "\n",
    "Each row in the assignment datafile corresponds to a single observation.\n",
    "\n",
    "The following variables are provided to you:\n",
    "\n",
    "* **id** : station identification code\n",
    "* **date** : date in YYYY-MM-DD format (e.g. 2012-01-24 = January 24, 2012)\n",
    "\n",
    "    * TMAX : Maximum temperature (tenths of degrees C)\n",
    "    * TMIN : Minimum temperature (tenths of degrees C)\n",
    "\n",
    "For this assignment, you must:\n",
    "\n",
    "1. Read the documentation and familiarize yourself with the dataset, then write some python code which returns a line graph of the record high and record low temperatures by day of the year over the period 2005-2014. The area between the record high and record low temperatures for each day should be shaded.\n",
    "2. Overlay a scatter of the 2015 data for any points (highs and lows) for which the ten year record (2005-2014) record high or record low was broken in 2015.\n",
    "3. Watch out for leap days (i.e. February 29th), it is reasonable to remove these points from the dataset for the purpose of this visualization.\n",
    "4. Make the visual nice! Leverage principles from the first module in this course when developing your solution. Consider issues such as legends, labels, and chart junk.\n",
    "\n",
    "The data you have been given is near **Bangalore, India**, and the stations the data comes from are shown on the map below."
   ]
  },
  {
   "cell_type": "code",
   "execution_count": 2,
   "metadata": {},
   "outputs": [],
   "source": [
    "#Load the Data\n",
    "import numpy as np\n",
    "import pandas as pd\n",
    "data = pd.read_csv('BangaloreTempDataCleaninReqd.csv')\n",
    "data.head()\n"
   ]
  },
  {
   "cell_type": "code",
   "execution_count": 2,
   "metadata": {},
   "outputs": [
    {
     "data": {
      "text/plain": [
       "6820"
      ]
     },
     "execution_count": 2,
     "metadata": {},
     "output_type": "execute_result"
    }
   ],
   "source": [
    "#How many records?\n",
    "len(data)"
   ]
  },
  {
   "cell_type": "code",
   "execution_count": 3,
   "metadata": {
    "scrolled": true
   },
   "outputs": [
    {
     "data": {
      "text/html": [
       "<div>\n",
       "<style>\n",
       "    .dataframe thead tr:only-child th {\n",
       "        text-align: right;\n",
       "    }\n",
       "\n",
       "    .dataframe thead th {\n",
       "        text-align: left;\n",
       "    }\n",
       "\n",
       "    .dataframe tbody tr th {\n",
       "        vertical-align: top;\n",
       "    }\n",
       "</style>\n",
       "<table border=\"1\" class=\"dataframe\">\n",
       "  <thead>\n",
       "    <tr style=\"text-align: right;\">\n",
       "      <th></th>\n",
       "      <th>STATION</th>\n",
       "      <th>NAME</th>\n",
       "      <th>LATITUDE</th>\n",
       "      <th>LONGITUDE</th>\n",
       "      <th>ELEVATION</th>\n",
       "      <th>DATE</th>\n",
       "      <th>TAVG</th>\n",
       "      <th>TAVG_ATTRIBUTES</th>\n",
       "      <th>TMAX</th>\n",
       "      <th>TMAX_ATTRIBUTES</th>\n",
       "      <th>TMIN</th>\n",
       "      <th>TMIN_ATTRIBUTES</th>\n",
       "    </tr>\n",
       "  </thead>\n",
       "  <tbody>\n",
       "    <tr>\n",
       "      <th>0</th>\n",
       "      <td>IN009010100</td>\n",
       "      <td>BANGALORE, IN</td>\n",
       "      <td>12.967</td>\n",
       "      <td>77.583</td>\n",
       "      <td>921.0</td>\n",
       "      <td>2000-01-01</td>\n",
       "      <td>19.2</td>\n",
       "      <td>H,,S</td>\n",
       "      <td>26.1</td>\n",
       "      <td>,,S</td>\n",
       "      <td>NaN</td>\n",
       "      <td>NaN</td>\n",
       "    </tr>\n",
       "    <tr>\n",
       "      <th>1</th>\n",
       "      <td>IN009010100</td>\n",
       "      <td>BANGALORE, IN</td>\n",
       "      <td>12.967</td>\n",
       "      <td>77.583</td>\n",
       "      <td>921.0</td>\n",
       "      <td>2000-01-02</td>\n",
       "      <td>19.4</td>\n",
       "      <td>H,,S</td>\n",
       "      <td>NaN</td>\n",
       "      <td>NaN</td>\n",
       "      <td>14.8</td>\n",
       "      <td>,,S</td>\n",
       "    </tr>\n",
       "    <tr>\n",
       "      <th>2</th>\n",
       "      <td>IN009010100</td>\n",
       "      <td>BANGALORE, IN</td>\n",
       "      <td>12.967</td>\n",
       "      <td>77.583</td>\n",
       "      <td>921.0</td>\n",
       "      <td>2000-01-03</td>\n",
       "      <td>20.4</td>\n",
       "      <td>H,,S</td>\n",
       "      <td>25.8</td>\n",
       "      <td>,,S</td>\n",
       "      <td>NaN</td>\n",
       "      <td>NaN</td>\n",
       "    </tr>\n",
       "    <tr>\n",
       "      <th>3</th>\n",
       "      <td>IN009010100</td>\n",
       "      <td>BANGALORE, IN</td>\n",
       "      <td>12.967</td>\n",
       "      <td>77.583</td>\n",
       "      <td>921.0</td>\n",
       "      <td>2000-01-04</td>\n",
       "      <td>20.7</td>\n",
       "      <td>H,,S</td>\n",
       "      <td>NaN</td>\n",
       "      <td>NaN</td>\n",
       "      <td>15.8</td>\n",
       "      <td>,,S</td>\n",
       "    </tr>\n",
       "    <tr>\n",
       "      <th>4</th>\n",
       "      <td>IN009010100</td>\n",
       "      <td>BANGALORE, IN</td>\n",
       "      <td>12.967</td>\n",
       "      <td>77.583</td>\n",
       "      <td>921.0</td>\n",
       "      <td>2000-01-05</td>\n",
       "      <td>20.9</td>\n",
       "      <td>H,,S</td>\n",
       "      <td>27.8</td>\n",
       "      <td>,,S</td>\n",
       "      <td>16.2</td>\n",
       "      <td>,,S</td>\n",
       "    </tr>\n",
       "  </tbody>\n",
       "</table>\n",
       "</div>"
      ],
      "text/plain": [
       "       STATION           NAME  LATITUDE  LONGITUDE  ELEVATION        DATE  \\\n",
       "0  IN009010100  BANGALORE, IN    12.967     77.583      921.0  2000-01-01   \n",
       "1  IN009010100  BANGALORE, IN    12.967     77.583      921.0  2000-01-02   \n",
       "2  IN009010100  BANGALORE, IN    12.967     77.583      921.0  2000-01-03   \n",
       "3  IN009010100  BANGALORE, IN    12.967     77.583      921.0  2000-01-04   \n",
       "4  IN009010100  BANGALORE, IN    12.967     77.583      921.0  2000-01-05   \n",
       "\n",
       "   TAVG TAVG_ATTRIBUTES  TMAX TMAX_ATTRIBUTES  TMIN TMIN_ATTRIBUTES  \n",
       "0  19.2            H,,S  26.1             ,,S   NaN             NaN  \n",
       "1  19.4            H,,S   NaN             NaN  14.8             ,,S  \n",
       "2  20.4            H,,S  25.8             ,,S   NaN             NaN  \n",
       "3  20.7            H,,S   NaN             NaN  15.8             ,,S  \n",
       "4  20.9            H,,S  27.8             ,,S  16.2             ,,S  "
      ]
     },
     "execution_count": 3,
     "metadata": {},
     "output_type": "execute_result"
    }
   ],
   "source": [
    "#DATE column converted to string. Use as index column\n",
    "date_index = pd.DatetimeIndex(data['DATE'])\n",
    "data.head()"
   ]
  },
  {
   "cell_type": "code",
   "execution_count": 4,
   "metadata": {},
   "outputs": [
    {
     "data": {
      "text/html": [
       "<div>\n",
       "<style>\n",
       "    .dataframe thead tr:only-child th {\n",
       "        text-align: right;\n",
       "    }\n",
       "\n",
       "    .dataframe thead th {\n",
       "        text-align: left;\n",
       "    }\n",
       "\n",
       "    .dataframe tbody tr th {\n",
       "        vertical-align: top;\n",
       "    }\n",
       "</style>\n",
       "<table border=\"1\" class=\"dataframe\">\n",
       "  <thead>\n",
       "    <tr style=\"text-align: right;\">\n",
       "      <th></th>\n",
       "      <th>DATE</th>\n",
       "      <th>TMIN</th>\n",
       "      <th>TMAX</th>\n",
       "    </tr>\n",
       "  </thead>\n",
       "  <tbody>\n",
       "    <tr>\n",
       "      <th>0</th>\n",
       "      <td>2000-01-01</td>\n",
       "      <td>NaN</td>\n",
       "      <td>26.1</td>\n",
       "    </tr>\n",
       "    <tr>\n",
       "      <th>1</th>\n",
       "      <td>2000-01-02</td>\n",
       "      <td>14.8</td>\n",
       "      <td>NaN</td>\n",
       "    </tr>\n",
       "    <tr>\n",
       "      <th>2</th>\n",
       "      <td>2000-01-03</td>\n",
       "      <td>NaN</td>\n",
       "      <td>25.8</td>\n",
       "    </tr>\n",
       "    <tr>\n",
       "      <th>3</th>\n",
       "      <td>2000-01-04</td>\n",
       "      <td>15.8</td>\n",
       "      <td>NaN</td>\n",
       "    </tr>\n",
       "    <tr>\n",
       "      <th>4</th>\n",
       "      <td>2000-01-05</td>\n",
       "      <td>16.2</td>\n",
       "      <td>27.8</td>\n",
       "    </tr>\n",
       "  </tbody>\n",
       "</table>\n",
       "</div>"
      ],
      "text/plain": [
       "         DATE  TMIN  TMAX\n",
       "0  2000-01-01   NaN  26.1\n",
       "1  2000-01-02  14.8   NaN\n",
       "2  2000-01-03   NaN  25.8\n",
       "3  2000-01-04  15.8   NaN\n",
       "4  2000-01-05  16.2  27.8"
      ]
     },
     "execution_count": 4,
     "metadata": {},
     "output_type": "execute_result"
    }
   ],
   "source": [
    "#choose columns to keep\n",
    "data = data[['DATE', 'TMIN', 'TMAX']]\n",
    "data.head()"
   ]
  },
  {
   "cell_type": "code",
   "execution_count": 5,
   "metadata": {
    "collapsed": true
   },
   "outputs": [],
   "source": [
    "#Removing the leap days: Feb 29\n",
    "data = data[~((date_index.is_leap_year) & (date_index.month == 2) & (date_index.day == 29))]"
   ]
  },
  {
   "cell_type": "code",
   "execution_count": 6,
   "metadata": {},
   "outputs": [
    {
     "data": {
      "text/plain": [
       "6815"
      ]
     },
     "execution_count": 6,
     "metadata": {},
     "output_type": "execute_result"
    }
   ],
   "source": [
    "len(data)"
   ]
  },
  {
   "cell_type": "code",
   "execution_count": 7,
   "metadata": {
    "collapsed": true
   },
   "outputs": [],
   "source": [
    "#Refreshing the date_index\n",
    "date_index = pd.DatetimeIndex(data['DATE'])"
   ]
  },
  {
   "cell_type": "code",
   "execution_count": 8,
   "metadata": {
    "collapsed": true
   },
   "outputs": [],
   "source": [
    "#The main index will be the Month-Day combination\n",
    "data[\"Month\"] = date_index.month\n",
    "data[\"Day\"] = date_index.day"
   ]
  },
  {
   "cell_type": "code",
   "execution_count": 9,
   "metadata": {
    "scrolled": true
   },
   "outputs": [
    {
     "data": {
      "text/html": [
       "<div>\n",
       "<style>\n",
       "    .dataframe thead tr:only-child th {\n",
       "        text-align: right;\n",
       "    }\n",
       "\n",
       "    .dataframe thead th {\n",
       "        text-align: left;\n",
       "    }\n",
       "\n",
       "    .dataframe tbody tr th {\n",
       "        vertical-align: top;\n",
       "    }\n",
       "</style>\n",
       "<table border=\"1\" class=\"dataframe\">\n",
       "  <thead>\n",
       "    <tr style=\"text-align: right;\">\n",
       "      <th></th>\n",
       "      <th>DATE</th>\n",
       "      <th>TMIN</th>\n",
       "      <th>TMAX</th>\n",
       "      <th>Month</th>\n",
       "      <th>Day</th>\n",
       "    </tr>\n",
       "  </thead>\n",
       "  <tbody>\n",
       "    <tr>\n",
       "      <th>0</th>\n",
       "      <td>2000-01-01</td>\n",
       "      <td>NaN</td>\n",
       "      <td>26.1</td>\n",
       "      <td>1</td>\n",
       "      <td>1</td>\n",
       "    </tr>\n",
       "    <tr>\n",
       "      <th>1</th>\n",
       "      <td>2000-01-02</td>\n",
       "      <td>14.8</td>\n",
       "      <td>NaN</td>\n",
       "      <td>1</td>\n",
       "      <td>2</td>\n",
       "    </tr>\n",
       "    <tr>\n",
       "      <th>2</th>\n",
       "      <td>2000-01-03</td>\n",
       "      <td>NaN</td>\n",
       "      <td>25.8</td>\n",
       "      <td>1</td>\n",
       "      <td>3</td>\n",
       "    </tr>\n",
       "    <tr>\n",
       "      <th>3</th>\n",
       "      <td>2000-01-04</td>\n",
       "      <td>15.8</td>\n",
       "      <td>NaN</td>\n",
       "      <td>1</td>\n",
       "      <td>4</td>\n",
       "    </tr>\n",
       "    <tr>\n",
       "      <th>4</th>\n",
       "      <td>2000-01-05</td>\n",
       "      <td>16.2</td>\n",
       "      <td>27.8</td>\n",
       "      <td>1</td>\n",
       "      <td>5</td>\n",
       "    </tr>\n",
       "  </tbody>\n",
       "</table>\n",
       "</div>"
      ],
      "text/plain": [
       "         DATE  TMIN  TMAX  Month  Day\n",
       "0  2000-01-01   NaN  26.1      1    1\n",
       "1  2000-01-02  14.8   NaN      1    2\n",
       "2  2000-01-03   NaN  25.8      1    3\n",
       "3  2000-01-04  15.8   NaN      1    4\n",
       "4  2000-01-05  16.2  27.8      1    5"
      ]
     },
     "execution_count": 9,
     "metadata": {},
     "output_type": "execute_result"
    }
   ],
   "source": [
    "data_2015 = data[date_index >= \"2015-01-01\"]\n",
    "data = data[date_index < \"2015-01-01\"]\n",
    "data.head()"
   ]
  },
  {
   "cell_type": "code",
   "execution_count": 10,
   "metadata": {},
   "outputs": [
    {
     "data": {
      "text/plain": [
       "(5459, 1356)"
      ]
     },
     "execution_count": 10,
     "metadata": {},
     "output_type": "execute_result"
    }
   ],
   "source": [
    "len(data), len(data_2015)"
   ]
  },
  {
   "cell_type": "code",
   "execution_count": 11,
   "metadata": {},
   "outputs": [
    {
     "data": {
      "text/plain": [
       "Month  Day\n",
       "1      1      30.3\n",
       "       2      30.3\n",
       "       3      31.8\n",
       "       4      32.0\n",
       "       5      32.0\n",
       "Name: TMAX, dtype: float64"
      ]
     },
     "execution_count": 11,
     "metadata": {},
     "output_type": "execute_result"
    }
   ],
   "source": [
    "#The maximum temperatures records\n",
    "data_max = data.groupby([\"Month\", \"Day\"])['TMAX'].max()\n",
    "#data_max = data/ 10\n",
    "data_max.head()"
   ]
  },
  {
   "cell_type": "code",
   "execution_count": 12,
   "metadata": {},
   "outputs": [
    {
     "data": {
      "text/plain": [
       "Month  Day\n",
       "1      1      13.4\n",
       "       2      14.0\n",
       "       3      13.8\n",
       "       4      13.7\n",
       "       5      14.7\n",
       "Name: TMIN, dtype: float64"
      ]
     },
     "execution_count": 12,
     "metadata": {},
     "output_type": "execute_result"
    }
   ],
   "source": [
    "#The minumum temperatures records\n",
    "data_min = data.groupby([\"Month\", \"Day\"])['TMIN'].min()\n",
    "data_min.head()"
   ]
  },
  {
   "cell_type": "code",
   "execution_count": 13,
   "metadata": {},
   "outputs": [
    {
     "data": {
      "text/plain": [
       "Month  Day\n",
       "1      1      29.5\n",
       "       2      29.2\n",
       "       3      29.2\n",
       "       4      29.5\n",
       "       5      29.0\n",
       "Name: TMAX, dtype: float64"
      ]
     },
     "execution_count": 13,
     "metadata": {},
     "output_type": "execute_result"
    }
   ],
   "source": [
    "#The 2015 maximum temperatures records\n",
    "data_2015_max = data_2015.groupby([\"Month\", \"Day\"])[\"TMAX\"].max()\n",
    "#data_2015_max = data_2015_max / 10\n",
    "data_2015_max.head()"
   ]
  },
  {
   "cell_type": "code",
   "execution_count": 14,
   "metadata": {},
   "outputs": [
    {
     "data": {
      "text/plain": [
       "Month  Day\n",
       "1      1      15.7\n",
       "       2      12.9\n",
       "       3      13.7\n",
       "       4      15.2\n",
       "       5      14.7\n",
       "Name: TMIN, dtype: float64"
      ]
     },
     "execution_count": 14,
     "metadata": {},
     "output_type": "execute_result"
    }
   ],
   "source": [
    "#The 2015 minimum temperatures records\n",
    "data_2015_min = data_2015.groupby([\"Month\", \"Day\"])[\"TMIN\"].min()\n",
    "#data_2015_min = data_2015_min / 10\n",
    "data_2015_min.head()"
   ]
  },
  {
   "cell_type": "code",
   "execution_count": 15,
   "metadata": {},
   "outputs": [
    {
     "name": "stdout",
     "output_type": "stream",
     "text": [
      "114\n",
      "37\n"
     ]
    }
   ],
   "source": [
    "#When where the records broken?\n",
    "max_rec_broken = (data_2015_max > data_max)\n",
    "print(np.sum(max_rec_broken))\n",
    "min_rec_broken = (data_2015_min < data_min)\n",
    "print(np.sum(min_rec_broken))"
   ]
  },
  {
   "cell_type": "code",
   "execution_count": 16,
   "metadata": {
    "collapsed": true
   },
   "outputs": [],
   "source": [
    "%matplotlib inline\n",
    "import matplotlib.pyplot as plt\n",
    "import matplotlib as mpl\n",
    "mpl.rcParams['figure.figsize'] = (16, 8)\n",
    "#import matplotlib\n",
    "#mpl.style.use('ggplot')"
   ]
  },
  {
   "cell_type": "code",
   "execution_count": 17,
   "metadata": {
    "collapsed": true
   },
   "outputs": [],
   "source": [
    "observation_axis = np.arange('2015-01-01', '2016-01-01', dtype='datetime64[D]')\n",
    "observation_axis = np.array(list(map(pd.to_datetime, observation_axis)))"
   ]
  },
  {
   "cell_type": "code",
   "execution_count": 18,
   "metadata": {},
   "outputs": [
    {
     "data": {
      "text/plain": [
       "<matplotlib.collections.PolyCollection at 0x7fd80e734be0>"
      ]
     },
     "execution_count": 18,
     "metadata": {},
     "output_type": "execute_result"
    },
    {
     "data": {
      "image/png": "[encoded data removed]",
      "text/plain": [
       "<matplotlib.figure.Figure at 0x7fd8151f1898>"
      ]
     },
     "metadata": {},
     "output_type": "display_data"
    }
   ],
   "source": [
    "plt.suptitle(\"2015 temperature records vs past 10 years (2005-2014) records (°C)\", fontsize=16)\n",
    "plt.title(\"Bangalore\", fontsize=14)\n",
    "\n",
    "#Past record temperatures\n",
    "plt.plot(observation_axis, data_min, '-o', color='blue', ms=2, alpha=0.75) \n",
    "plt.plot(observation_axis, data_max, '-o', color='orange', ms=2, alpha=0.75) \n",
    "\n",
    "#2015 record temperatures\n",
    "plt.plot(observation_axis[max_rec_broken], data_2015_max[max_rec_broken].as_matrix(), 'r^',\n",
    "         observation_axis[min_rec_broken], data_2015_min[min_rec_broken].as_matrix(), 'bv', \n",
    "         ms=8, alpha=1.0)\n",
    "\n",
    "import matplotlib.dates as mdates\n",
    "plt.gca().xaxis.set_major_formatter(mdates.DateFormatter('%b'))\n",
    "plt.gca().xaxis.set_major_locator(mdates.MonthLocator())\n",
    "\n",
    "plt.legend(['Past Record Lows', 'Past Record Highs', \"2015 record Highs\", \"2015 record Lows\"], loc='center left', bbox_to_anchor=(1.0, 0.5), prop={'size':12})\n",
    "\n",
    "plt.gca().fill_between(observation_axis, data_min, data_max, facecolor='grey', alpha=0.15)"
   ]
  },
  {
   "cell_type": "code",
   "execution_count": null,
   "metadata": {
    "collapsed": true
   },
   "outputs": [],
   "source": []
  },
  {
   "cell_type": "code",
   "execution_count": null,
   "metadata": {
    "collapsed": true
   },
   "outputs": [],
   "source": []
  }
 ],
 "metadata": {
  "kernelspec": {
   "display_name": "Python 3 (ipykernel)",
   "language": "python",
   "name": "python3"
  },
  "language_info": {
   "codemirror_mode": {
    "name": "ipython",
    "version": 3
   },
   "file_extension": ".py",
   "mimetype": "text/x-python",
   "name": "python",
   "nbconvert_exporter": "python",
   "pygments_lexer": "ipython3",
   "version": "3.9.7"
  }
 },
 "nbformat": 4,
 "nbformat_minor": 1
}
